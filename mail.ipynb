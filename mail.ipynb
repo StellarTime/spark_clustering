{
 "cells": [
  {
   "cell_type": "markdown",
   "metadata": {},
   "source": [
    "## Spectral clustering\n",
    "\n",
    "The most common one (von Luxburg):\n",
    "\n",
    "1. Similarity matrix $S$\n",
    "2. Construct similarity graph -> Adjacency matrix $W$\n",
    "3. Graph Laplacian $L = D - W$, where $D$ is diagonal matrix of node degrees.\n",
    "4. Get $V$ by computing the first $k$ eigenvectors\n",
    "5. Cluster the nodes with $k$-means"
   ]
  },
  {
   "cell_type": "markdown",
   "metadata": {
    "ExecuteTime": {
     "end_time": "2019-02-26T18:56:54.542264Z",
     "start_time": "2019-02-26T18:56:54.527570Z"
    }
   },
   "source": [
    "## How to get adjacency matrix\n",
    "- $\\epsilon$-neighborhood graph\n",
    "- $k$-nearest neighbor graph\n",
    "    - directed\n",
    "    - undirected\n",
    "- fully connected graph (a weighted graph)\n",
    "- (MST, and tons of others)"
   ]
  },
  {
   "cell_type": "markdown",
   "metadata": {},
   "source": [
    "## To get graph Laplacian\n",
    "- Ordinay: $$L = D - W$$\n",
    "- Normalized: $$L = I - D^{-1}W$$\n",
    "- Symmetric: $$L = I - D^{-1/2}WD^{-1/2}$$\n",
    "- Generalization for directed graph based on random walk theory\n",
    "    $$\\Theta = (\\Pi^{1/2}P\\Pi^{-1/2} + \\Pi^{-1/2}P^T\\Pi^{1/2})/2$$\n",
    "    $$L = I - \\Theta$$\n",
    "- ..."
   ]
  },
  {
   "cell_type": "markdown",
   "metadata": {},
   "source": [
    "## Eigendecomposition / Singular Value Decomposition\n",
    "\n",
    "- diagonal, triangular, tridiagonal, Hessenburg form, ...\n",
    "- spar.........................se"
   ]
  },
  {
   "cell_type": "markdown",
   "metadata": {},
   "source": [
    "### Power iteration\n",
    "\n",
    "Gives the eigenvector corresponding to the largest eigenvalue.\n",
    "\n",
    "```\n",
    "some initial x0,\n",
    "for k = 1, 2, ...:\n",
    "    y[k] = A x[k-1]\n",
    "    x[k] = y[k] / norm(y[k-1])\n",
    "```"
   ]
  },
  {
   "cell_type": "markdown",
   "metadata": {},
   "source": [
    "### QR Iteration\n",
    "\n",
    "Gives all eigenvalues and eigenvectors of A:\n",
    "\n",
    "```\n",
    "A[0] = A\n",
    "for k=1, 2, ...:\n",
    "    Compute QR factorization: Q[k]R[k] = A[k-1]\n",
    "    A[k] = R[k]Q[k]\n",
    "```"
   ]
  },
  {
   "cell_type": "markdown",
   "metadata": {},
   "source": [
    "### Lanczos/Arnoldi Iteration\n",
    "\n",
    "1. Basically it produces a upper Hessenburg matrix column by column using **only matrix multiplication.**\n",
    "2. We use the eigenvalues of the result Hessenburg matrix as approximation.\n",
    "3. $\\text{computeSVD}$ in Spark (ARPARCK)"
   ]
  },
  {
   "cell_type": "markdown",
   "metadata": {},
   "source": [
    "---\n",
    "\n",
    "\n",
    "\n",
    "\n",
    "\n",
    "---\n",
    "\n",
    "\n",
    "\n",
    "\n",
    "\n",
    "\n",
    "\n",
    "\n",
    "\n",
    "---"
   ]
  },
  {
   "cell_type": "code",
   "execution_count": 48,
   "metadata": {
    "ExecuteTime": {
     "end_time": "2019-02-26T19:26:16.555604Z",
     "start_time": "2019-02-26T19:26:16.274502Z"
    }
   },
   "outputs": [],
   "source": [
    "import findspark\n",
    "findspark.init()\n",
    "import pyspark\n",
    "sc = pyspark.SparkContext(appName='spectral')\n",
    "spark = pyspark.sql.SparkSession(sc)"
   ]
  },
  {
   "cell_type": "code",
   "execution_count": 50,
   "metadata": {
    "ExecuteTime": {
     "end_time": "2019-02-26T19:28:04.102657Z",
     "start_time": "2019-02-26T19:28:04.096675Z"
    }
   },
   "outputs": [],
   "source": [
    "from pyspark.mllib.linalg.distributed import MatrixEntry, CoordinateMatrix\n",
    "from pyspark.ml.feature import VectorAssembler\n",
    "from pyspark.ml.clustering import KMeans\n",
    "from pyspark.mllib.clustering import PowerIterationClustering, PowerIterationClusteringModel"
   ]
  },
  {
   "cell_type": "code",
   "execution_count": 51,
   "metadata": {
    "ExecuteTime": {
     "end_time": "2019-02-26T19:28:05.819121Z",
     "start_time": "2019-02-26T19:28:05.813256Z"
    },
    "collapsed": true
   },
   "outputs": [],
   "source": [
    "from pyspark.sql.functions import sqrt\n",
    "from pyspark.ml.evaluation import ClusteringEvaluator"
   ]
  },
  {
   "cell_type": "code",
   "execution_count": 52,
   "metadata": {
    "ExecuteTime": {
     "end_time": "2019-02-26T19:28:14.919471Z",
     "start_time": "2019-02-26T19:28:13.609160Z"
    }
   },
   "outputs": [
    {
     "data": {
      "text/plain": [
       "['0 1', '2 3', '2 4', '5 6', '5 7', '8 9', '10 11', '12 13', '12 14', '15 16']"
      ]
     },
     "execution_count": 52,
     "metadata": {},
     "output_type": "execute_result"
    }
   ],
   "source": [
    "txt = sc.textFile('./data/email-Eu-core.txt')\n",
    "txt.take(10)"
   ]
  },
  {
   "cell_type": "markdown",
   "metadata": {},
   "source": [
    "## Data"
   ]
  },
  {
   "cell_type": "code",
   "execution_count": 53,
   "metadata": {
    "ExecuteTime": {
     "end_time": "2019-02-26T19:28:25.329472Z",
     "start_time": "2019-02-26T19:28:25.232517Z"
    }
   },
   "outputs": [
    {
     "data": {
      "text/plain": [
       "[(0, 1),\n",
       " (2, 3),\n",
       " (2, 4),\n",
       " (5, 6),\n",
       " (5, 7),\n",
       " (8, 9),\n",
       " (10, 11),\n",
       " (12, 13),\n",
       " (12, 14),\n",
       " (15, 16)]"
      ]
     },
     "execution_count": 53,
     "metadata": {},
     "output_type": "execute_result"
    }
   ],
   "source": [
    "txt = txt.map(lambda x: x.split(' ')).map(lambda x: (int(x[0]) ,int(x[1])))\n",
    "txt.take(10)"
   ]
  },
  {
   "cell_type": "code",
   "execution_count": 54,
   "metadata": {
    "ExecuteTime": {
     "end_time": "2019-02-26T19:28:28.218158Z",
     "start_time": "2019-02-26T19:28:28.014804Z"
    }
   },
   "outputs": [
    {
     "data": {
      "text/plain": [
       "1005"
      ]
     },
     "execution_count": 54,
     "metadata": {},
     "output_type": "execute_result"
    }
   ],
   "source": [
    "N = txt.flatMap(lambda x: [int(xx) for xx in x]).max() + 1\n",
    "N"
   ]
  },
  {
   "cell_type": "markdown",
   "metadata": {},
   "source": [
    "## Power Iteration"
   ]
  },
  {
   "cell_type": "code",
   "execution_count": 64,
   "metadata": {
    "ExecuteTime": {
     "end_time": "2019-02-26T19:33:28.709651Z",
     "start_time": "2019-02-26T19:33:28.701152Z"
    }
   },
   "outputs": [
    {
     "name": "stdout",
     "output_type": "stream",
     "text": [
      "5\n"
     ]
    }
   ],
   "source": [
    "K = 5\n",
    "print(K)"
   ]
  },
  {
   "cell_type": "code",
   "execution_count": 68,
   "metadata": {
    "ExecuteTime": {
     "end_time": "2019-02-26T19:35:21.537207Z",
     "start_time": "2019-02-26T19:35:21.532940Z"
    }
   },
   "outputs": [],
   "source": [
    "similarities = txt.map(lambda x: tuple([x[0], x[1], 1.0]))"
   ]
  },
  {
   "cell_type": "code",
   "execution_count": 69,
   "metadata": {
    "ExecuteTime": {
     "end_time": "2019-02-26T19:35:28.161970Z",
     "start_time": "2019-02-26T19:35:24.473010Z"
    }
   },
   "outputs": [],
   "source": [
    "model = PowerIterationClustering.train(similarities, K, maxIterations=10)"
   ]
  },
  {
   "cell_type": "code",
   "execution_count": 72,
   "metadata": {
    "ExecuteTime": {
     "end_time": "2019-02-26T19:36:21.663848Z",
     "start_time": "2019-02-26T19:36:21.483157Z"
    }
   },
   "outputs": [
    {
     "data": {
      "text/plain": [
       "[Assignment(id=454, cluster=0),\n",
       " Assignment(id=386, cluster=2),\n",
       " Assignment(id=522, cluster=2),\n",
       " Assignment(id=324, cluster=2),\n",
       " Assignment(id=180, cluster=2),\n",
       " Assignment(id=320, cluster=2),\n",
       " Assignment(id=752, cluster=0),\n",
       " Assignment(id=586, cluster=1),\n",
       " Assignment(id=408, cluster=1),\n",
       " Assignment(id=428, cluster=4),\n",
       " Assignment(id=986, cluster=3),\n",
       " Assignment(id=996, cluster=2),\n",
       " Assignment(id=464, cluster=0),\n",
       " Assignment(id=346, cluster=2),\n",
       " Assignment(id=14, cluster=2),\n",
       " Assignment(id=466, cluster=2),\n",
       " Assignment(id=24, cluster=0),\n",
       " Assignment(id=520, cluster=1),\n",
       " Assignment(id=912, cluster=2),\n",
       " Assignment(id=302, cluster=3)]"
      ]
     },
     "execution_count": 72,
     "metadata": {},
     "output_type": "execute_result"
    }
   ],
   "source": [
    "model.assignments().take(20)"
   ]
  },
  {
   "cell_type": "markdown",
   "metadata": {},
   "source": [
    "## Lanczos Iteration"
   ]
  },
  {
   "cell_type": "code",
   "execution_count": 55,
   "metadata": {
    "ExecuteTime": {
     "end_time": "2019-02-26T19:28:34.200752Z",
     "start_time": "2019-02-26T19:28:33.231569Z"
    }
   },
   "outputs": [],
   "source": [
    "upper_entries = txt.map(lambda x: MatrixEntry(int(x[0]), int(x[1]), 1.0))\n",
    "lower_entries = txt.map(lambda x: MatrixEntry(int(x[1]), int(x[0]), 1.0))\n",
    "degrees = upper_entries.map(lambda entry: (entry.i, entry.value)).reduceByKey(lambda a, b: a + b)\n",
    "W = CoordinateMatrix(upper_entries.union(lower_entries), numCols=N, numRows=N)"
   ]
  },
  {
   "cell_type": "code",
   "execution_count": null,
   "metadata": {
    "collapsed": true,
    "deletable": false,
    "editable": false,
    "run_control": {
     "frozen": true
    }
   },
   "outputs": [],
   "source": [
    "entries = degrees.map(lambda x: MatrixEntry(x[0], x[0], x[1]))\n",
    "D = CoordinateMatrix(entries, numCols=N, numRows=N)\n",
    "L = D.toBlockMatrix().subtract(W.toBlockMatrix()).toCoordinateMatrix()"
   ]
  },
  {
   "cell_type": "code",
   "execution_count": 56,
   "metadata": {
    "ExecuteTime": {
     "end_time": "2019-02-26T19:28:48.949957Z",
     "start_time": "2019-02-26T19:28:45.063222Z"
    }
   },
   "outputs": [],
   "source": [
    "entries = degrees.map(lambda x: MatrixEntry(x[0], x[0], 1/x[1]))\n",
    "D_inv = CoordinateMatrix(entries, numCols=N, numRows=N).toBlockMatrix()\n",
    "I = CoordinateMatrix(sc.range(N).map(lambda i: MatrixEntry(i, i, 1.0)), numCols=N, numRows=N).toBlockMatrix()\n",
    "L = I.subtract(D_inv.multiply(W.toBlockMatrix())).toCoordinateMatrix()"
   ]
  },
  {
   "cell_type": "code",
   "execution_count": 14,
   "metadata": {
    "ExecuteTime": {
     "end_time": "2019-02-25T21:05:58.786876Z",
     "start_time": "2019-02-25T21:05:58.609313Z"
    },
    "deletable": false,
    "editable": false,
    "run_control": {
     "frozen": true
    }
   },
   "outputs": [
    {
     "data": {
      "text/plain": [
       "pyspark.mllib.linalg.distributed.CoordinateMatrix"
      ]
     },
     "execution_count": 14,
     "metadata": {},
     "output_type": "execute_result"
    }
   ],
   "source": [
    "entries = degrees.map(lambda x: MatrixEntry(x[0], x[0], 1/sqrt(x[1])))\n",
    "D_invsq = CoordinateMatrix(entries, numCols=N, numRows=N).toBlockMatrix()\n",
    "I = sc.range(N).map(lambda i: MatrixEntry(i, i, 1.0), N, N)\n",
    "tmp = D_invsq.multiply(W.toBlockMatrix()).multiply(D_invsq)\n",
    "L = I.toBlockMatrix().subtract(tmp)"
   ]
  },
  {
   "cell_type": "code",
   "execution_count": 57,
   "metadata": {
    "ExecuteTime": {
     "end_time": "2019-02-26T19:29:04.990760Z",
     "start_time": "2019-02-26T19:29:04.983650Z"
    }
   },
   "outputs": [
    {
     "name": "stdout",
     "output_type": "stream",
     "text": [
      "5\n"
     ]
    }
   ],
   "source": [
    "K = 5\n",
    "print(K)"
   ]
  },
  {
   "cell_type": "code",
   "execution_count": 58,
   "metadata": {
    "ExecuteTime": {
     "end_time": "2019-02-26T19:29:21.549241Z",
     "start_time": "2019-02-26T19:29:16.168688Z"
    }
   },
   "outputs": [
    {
     "name": "stdout",
     "output_type": "stream",
     "text": [
      "<class 'pyspark.mllib.linalg.DenseVector'>\n",
      "<class 'pyspark.mllib.linalg.DenseMatrix'>\n"
     ]
    }
   ],
   "source": [
    "svd = L.toRowMatrix().computeSVD(k=K, computeU=False)\n",
    "print(type(svd.s))\n",
    "print(type(svd.V))"
   ]
  },
  {
   "cell_type": "code",
   "execution_count": 59,
   "metadata": {
    "ExecuteTime": {
     "end_time": "2019-02-26T19:29:25.345068Z",
     "start_time": "2019-02-26T19:29:25.123116Z"
    }
   },
   "outputs": [],
   "source": [
    "V = svd.V.toArray().tolist()\n",
    "VV = spark.createDataFrame(V)\n",
    "kmeans = KMeans().setK(K).setSeed(1)\n",
    "vecAssembler = VectorAssembler(inputCols=VV.schema.names, outputCol='features')\n",
    "VV = vecAssembler.transform(VV)"
   ]
  },
  {
   "cell_type": "code",
   "execution_count": 60,
   "metadata": {
    "ExecuteTime": {
     "end_time": "2019-02-26T19:29:28.788021Z",
     "start_time": "2019-02-26T19:29:26.823335Z"
    },
    "collapsed": true
   },
   "outputs": [],
   "source": [
    "model = kmeans.fit(VV.select('features'))\n",
    "clusters = model.transform(VV)"
   ]
  },
  {
   "cell_type": "code",
   "execution_count": 61,
   "metadata": {
    "ExecuteTime": {
     "end_time": "2019-02-26T19:29:30.226257Z",
     "start_time": "2019-02-26T19:29:30.087491Z"
    }
   },
   "outputs": [
    {
     "name": "stdout",
     "output_type": "stream",
     "text": [
      "+----------+\n",
      "|prediction|\n",
      "+----------+\n",
      "|         0|\n",
      "|         0|\n",
      "|         0|\n",
      "|         0|\n",
      "|         3|\n",
      "|         3|\n",
      "|         0|\n",
      "|         3|\n",
      "|         0|\n",
      "|         0|\n",
      "|         0|\n",
      "|         3|\n",
      "|         3|\n",
      "|         1|\n",
      "|         1|\n",
      "|         0|\n",
      "|         0|\n",
      "|         2|\n",
      "|         3|\n",
      "|         3|\n",
      "+----------+\n",
      "only showing top 20 rows\n",
      "\n"
     ]
    }
   ],
   "source": [
    "clusters.select('prediction').show()"
   ]
  },
  {
   "cell_type": "code",
   "execution_count": 62,
   "metadata": {
    "ExecuteTime": {
     "end_time": "2019-02-26T19:29:39.767626Z",
     "start_time": "2019-02-26T19:29:39.564856Z"
    },
    "scrolled": true
   },
   "outputs": [
    {
     "name": "stdout",
     "output_type": "stream",
     "text": [
      "+-------+------------------+\n",
      "|summary|        prediction|\n",
      "+-------+------------------+\n",
      "|  count|              1005|\n",
      "|   mean| 0.408955223880597|\n",
      "| stddev|0.9934644014343972|\n",
      "|    min|                 0|\n",
      "|    max|                 4|\n",
      "+-------+------------------+\n",
      "\n"
     ]
    }
   ],
   "source": [
    "clusters.describe('prediction').show()"
   ]
  },
  {
   "cell_type": "code",
   "execution_count": 42,
   "metadata": {
    "ExecuteTime": {
     "end_time": "2019-02-26T18:04:21.379996Z",
     "start_time": "2019-02-26T18:04:20.972404Z"
    },
    "deletable": false,
    "editable": false,
    "run_control": {
     "frozen": true
    }
   },
   "outputs": [],
   "source": [
    "clusters.toPandas().to_csv('out/email_assignment_normalized.csv')"
   ]
  },
  {
   "cell_type": "code",
   "execution_count": 63,
   "metadata": {
    "ExecuteTime": {
     "end_time": "2019-02-26T19:30:01.383252Z",
     "start_time": "2019-02-26T19:30:00.818589Z"
    }
   },
   "outputs": [
    {
     "name": "stdout",
     "output_type": "stream",
     "text": [
      "0.7158510975063149\n"
     ]
    }
   ],
   "source": [
    "evaluator = ClusteringEvaluator()\n",
    "silhouette = evaluator.evaluate(clusters)\n",
    "print(silhouette)"
   ]
  },
  {
   "cell_type": "code",
   "execution_count": 47,
   "metadata": {
    "ExecuteTime": {
     "end_time": "2019-02-26T19:26:04.557889Z",
     "start_time": "2019-02-26T19:26:03.966046Z"
    },
    "collapsed": true
   },
   "outputs": [],
   "source": [
    "sc.stop()"
   ]
  },
  {
   "cell_type": "markdown",
   "metadata": {},
   "source": [
    "---\n",
    "References:\n",
    "- Von Luxburg, Ulrike. \"A tutorial on spectral clustering.\" Statistics and computing 17, no. 4 (2007): 395-416."
   ]
  }
 ],
 "metadata": {
  "kernelspec": {
   "display_name": "Python 3",
   "language": "python",
   "name": "python3"
  },
  "language_info": {
   "codemirror_mode": {
    "name": "ipython",
    "version": 3
   },
   "file_extension": ".py",
   "mimetype": "text/x-python",
   "name": "python",
   "nbconvert_exporter": "python",
   "pygments_lexer": "ipython3",
   "version": "3.6.1"
  },
  "toc": {
   "base_numbering": 1,
   "nav_menu": {},
   "number_sections": true,
   "sideBar": true,
   "skip_h1_title": false,
   "title_cell": "Table of Contents",
   "title_sidebar": "Contents",
   "toc_cell": false,
   "toc_position": {},
   "toc_section_display": true,
   "toc_window_display": false
  },
  "varInspector": {
   "cols": {
    "lenName": 16,
    "lenType": 16,
    "lenVar": 40
   },
   "kernels_config": {
    "python": {
     "delete_cmd_postfix": "",
     "delete_cmd_prefix": "del ",
     "library": "var_list.py",
     "varRefreshCmd": "print(var_dic_list())"
    },
    "r": {
     "delete_cmd_postfix": ") ",
     "delete_cmd_prefix": "rm(",
     "library": "var_list.r",
     "varRefreshCmd": "cat(var_dic_list()) "
    }
   },
   "types_to_exclude": [
    "module",
    "function",
    "builtin_function_or_method",
    "instance",
    "_Feature"
   ],
   "window_display": false
  }
 },
 "nbformat": 4,
 "nbformat_minor": 2
}
