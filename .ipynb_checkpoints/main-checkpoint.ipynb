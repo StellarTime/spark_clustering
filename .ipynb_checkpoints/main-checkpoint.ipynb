{
 "cells": [
  {
   "cell_type": "code",
   "execution_count": 185,
   "metadata": {
    "ExecuteTime": {
     "end_time": "2019-02-19T19:28:52.535219Z",
     "start_time": "2019-02-19T19:28:52.531147Z"
    },
    "collapsed": true,
    "deletable": false,
    "editable": false,
    "run_control": {
     "frozen": true
    }
   },
   "outputs": [],
   "source": [
    "K = 10"
   ]
  },
  {
   "cell_type": "code",
   "execution_count": 1,
   "metadata": {
    "ExecuteTime": {
     "end_time": "2019-02-19T16:45:16.679867Z",
     "start_time": "2019-02-19T16:45:09.958835Z"
    },
    "collapsed": true,
    "deletable": false,
    "editable": false,
    "run_control": {
     "frozen": true
    }
   },
   "outputs": [],
   "source": [
    "import findspark\n",
    "findspark.init()\n",
    "import pyspark\n",
    "sc = pyspark.SparkContext(appName='spectral')"
   ]
  },
  {
   "cell_type": "code",
   "execution_count": 39,
   "metadata": {
    "ExecuteTime": {
     "end_time": "2019-02-19T17:14:17.961248Z",
     "start_time": "2019-02-19T17:14:17.766306Z"
    },
    "collapsed": true,
    "deletable": false,
    "editable": false,
    "run_control": {
     "frozen": true
    }
   },
   "outputs": [],
   "source": [
    "spark = pyspark.sql.SparkSession(sc)"
   ]
  },
  {
   "cell_type": "code",
   "execution_count": 139,
   "metadata": {
    "ExecuteTime": {
     "end_time": "2019-02-19T18:41:19.419450Z",
     "start_time": "2019-02-19T18:41:19.412957Z"
    },
    "collapsed": true
   },
   "outputs": [],
   "source": [
    "from pyspark.mllib.linalg import Vectors\n",
    "from pyspark.mllib.linalg.distributed import IndexedRow, IndexedRowMatrix, MatrixEntry, CoordinateMatrix"
   ]
  },
  {
   "cell_type": "code",
   "execution_count": 190,
   "metadata": {
    "ExecuteTime": {
     "end_time": "2019-02-19T19:38:15.746761Z",
     "start_time": "2019-02-19T19:38:15.741921Z"
    },
    "collapsed": true
   },
   "outputs": [],
   "source": [
    "from pyspark.ml.clustering import KMeans"
   ]
  },
  {
   "cell_type": "code",
   "execution_count": 57,
   "metadata": {
    "ExecuteTime": {
     "end_time": "2019-02-19T17:40:29.765980Z",
     "start_time": "2019-02-19T17:40:29.760678Z"
    },
    "collapsed": true
   },
   "outputs": [],
   "source": [
    "# spark.conf.set('spark.sql.pivotMaxValues', 335000)"
   ]
  },
  {
   "cell_type": "markdown",
   "metadata": {},
   "source": [
    "## Get adjacency matrix"
   ]
  },
  {
   "cell_type": "code",
   "execution_count": 142,
   "metadata": {
    "ExecuteTime": {
     "end_time": "2019-02-19T18:43:32.363795Z",
     "start_time": "2019-02-19T18:43:32.259069Z"
    }
   },
   "outputs": [
    {
     "data": {
      "text/plain": [
       "['# Undirected graph: ../../data/output/amazon.ungraph.txt',\n",
       " '# Amazon',\n",
       " '# Nodes: 334863 Edges: 925872',\n",
       " '# FromNodeId\\tToNodeId',\n",
       " '1\\t88160']"
      ]
     },
     "execution_count": 142,
     "metadata": {},
     "output_type": "execute_result"
    }
   ],
   "source": [
    "txt = sc.textFile('./data/com-amazon.ungraph.txt')\n",
    "txt.take(5)"
   ]
  },
  {
   "cell_type": "code",
   "execution_count": 143,
   "metadata": {
    "ExecuteTime": {
     "end_time": "2019-02-19T18:43:33.067266Z",
     "start_time": "2019-02-19T18:43:33.060594Z"
    },
    "collapsed": true
   },
   "outputs": [],
   "source": [
    "txt = txt.sample(False, 0.001, 1)"
   ]
  },
  {
   "cell_type": "code",
   "execution_count": 144,
   "metadata": {
    "ExecuteTime": {
     "end_time": "2019-02-19T18:43:35.006918Z",
     "start_time": "2019-02-19T18:43:33.639661Z"
    },
    "collapsed": true
   },
   "outputs": [],
   "source": [
    "txt = txt.zipWithIndex().filter(lambda x: int(x[1]) >= 4).map(lambda x: x[0].split('\\t'))"
   ]
  },
  {
   "cell_type": "code",
   "execution_count": null,
   "metadata": {
    "ExecuteTime": {
     "end_time": "2019-02-19T18:43:35.054156Z",
     "start_time": "2019-02-19T18:43:34.162Z"
    }
   },
   "outputs": [],
   "source": [
    "txt.take(10)"
   ]
  },
  {
   "cell_type": "code",
   "execution_count": 145,
   "metadata": {
    "ExecuteTime": {
     "end_time": "2019-02-19T18:43:37.633905Z",
     "start_time": "2019-02-19T18:43:37.625473Z"
    }
   },
   "outputs": [
    {
     "data": {
      "text/plain": [
       "pyspark.rdd.PipelinedRDD"
      ]
     },
     "execution_count": 145,
     "metadata": {},
     "output_type": "execute_result"
    }
   ],
   "source": [
    "entries = txt.map(lambda x: MatrixEntry(int(x[0]), int(x[1]), 1.0))\n",
    "type(entries) # rdd"
   ]
  },
  {
   "cell_type": "code",
   "execution_count": 146,
   "metadata": {
    "ExecuteTime": {
     "end_time": "2019-02-19T18:43:40.558230Z",
     "start_time": "2019-02-19T18:43:39.288196Z"
    }
   },
   "outputs": [
    {
     "data": {
      "text/plain": [
       "548091"
      ]
     },
     "execution_count": 146,
     "metadata": {},
     "output_type": "execute_result"
    }
   ],
   "source": [
    "N = txt.flatMap(lambda x: [int(xx) for xx in x]).max()\n",
    "N"
   ]
  },
  {
   "cell_type": "code",
   "execution_count": 150,
   "metadata": {
    "ExecuteTime": {
     "end_time": "2019-02-19T18:45:18.738764Z",
     "start_time": "2019-02-19T18:45:18.239950Z"
    }
   },
   "outputs": [
    {
     "name": "stdout",
     "output_type": "stream",
     "text": [
      "548091\n",
      "548091\n",
      "<class 'pyspark.mllib.linalg.distributed.CoordinateMatrix'>\n"
     ]
    }
   ],
   "source": [
    "W = CoordinateMatrix(entries, numCols=N, numRows=N)\n",
    "print(W.numCols())\n",
    "print(W.numRows())\n",
    "print(type(W))"
   ]
  },
  {
   "cell_type": "code",
   "execution_count": 151,
   "metadata": {
    "ExecuteTime": {
     "end_time": "2019-02-19T18:45:26.666492Z",
     "start_time": "2019-02-19T18:45:26.658121Z"
    }
   },
   "outputs": [],
   "source": [
    "# def toSparseRow(N):\n",
    "#     return lambda val: Vectors.sparse(N, [(int(ii), 1) for ii in val])\n",
    "\n",
    "# txt.flatMap(lambda x: [int(xx) for xx in x]).max()\n",
    "# N = txt.flatMap(lambda x: [int(xx) for xx in x]).max()\n",
    "# rows = txt.map(lambda x: tuple(x)).groupByKey().mapValues(toSparse(N))\n",
    "# W = IndexedRowMatrix(rows)\n",
    "# W.numCols()\n",
    "# W.numRows()"
   ]
  },
  {
   "cell_type": "markdown",
   "metadata": {},
   "source": [
    "## Graph Laplacian"
   ]
  },
  {
   "cell_type": "code",
   "execution_count": 179,
   "metadata": {
    "ExecuteTime": {
     "end_time": "2019-02-19T19:14:08.577787Z",
     "start_time": "2019-02-19T19:14:06.361432Z"
    }
   },
   "outputs": [
    {
     "data": {
      "text/plain": [
       "pyspark.mllib.linalg.distributed.CoordinateMatrix"
      ]
     },
     "execution_count": 179,
     "metadata": {},
     "output_type": "execute_result"
    }
   ],
   "source": [
    "degrees = W.entries.map(lambda entry: (entry.i, entry.value)).reduceByKey(lambda a, b: a + b)\n",
    "entries = degrees.map(lambda x: MatrixEntry(x[0], x[0], x[1]))\n",
    "D = CoordinateMatrix(entries, numCols=N, numRows=N)"
   ]
  },
  {
   "cell_type": "markdown",
   "metadata": {
    "ExecuteTime": {
     "end_time": "2019-02-19T19:17:26.978222Z",
     "start_time": "2019-02-19T19:17:26.963684Z"
    }
   },
   "source": [
    "- Ordinay: $$L = D - W$$\n",
    "- Norlaized: $$L = I - D^{-1}W$$\n",
    "- Symmetric: $$L = I - D^{-1/2}WD^{-1/2}$$"
   ]
  },
  {
   "cell_type": "code",
   "execution_count": 186,
   "metadata": {
    "ExecuteTime": {
     "end_time": "2019-02-19T19:29:31.912616Z",
     "start_time": "2019-02-19T19:29:31.864933Z"
    }
   },
   "outputs": [
    {
     "data": {
      "text/plain": [
       "pyspark.mllib.linalg.distributed.CoordinateMatrix"
      ]
     },
     "execution_count": 186,
     "metadata": {},
     "output_type": "execute_result"
    }
   ],
   "source": [
    "L = D.toBlockMatrix().subtract(W.toBlockMatrix()).toCoordinateMatrix()\n",
    "type(L)"
   ]
  },
  {
   "cell_type": "markdown",
   "metadata": {},
   "source": [
    "## First k eigenvalues and eigen vectors"
   ]
  },
  {
   "cell_type": "code",
   "execution_count": 187,
   "metadata": {
    "ExecuteTime": {
     "end_time": "2019-02-19T19:30:13.257839Z",
     "start_time": "2019-02-19T19:30:13.236286Z"
    },
    "collapsed": true
   },
   "outputs": [],
   "source": [
    "L = L.toRowMatrix()"
   ]
  },
  {
   "cell_type": "code",
   "execution_count": 189,
   "metadata": {
    "ExecuteTime": {
     "end_time": "2019-02-19T19:33:20.404079Z",
     "start_time": "2019-02-19T19:33:20.398056Z"
    }
   },
   "outputs": [],
   "source": [
    "## The PCA method is not that scalable and has a fixed limit of columns (65535)\n",
    "V = L.computePrincipalComponents(k=K)"
   ]
  },
  {
   "cell_type": "markdown",
   "metadata": {},
   "source": [
    "## K-means on rows of transformed data"
   ]
  },
  {
   "cell_type": "code",
   "execution_count": null,
   "metadata": {
    "collapsed": true
   },
   "outputs": [],
   "source": [
    "kmeans = KMeans().setK(K).setSeed(1)\n",
    "model = kmeans.fit(V)\n",
    "clusters = model.transform(V)"
   ]
  },
  {
   "cell_type": "code",
   "execution_count": null,
   "metadata": {
    "collapsed": true,
    "deletable": false,
    "editable": false,
    "run_control": {
     "frozen": true
    }
   },
   "outputs": [],
   "source": [
    "sc.stop()"
   ]
  }
 ],
 "metadata": {
  "kernelspec": {
   "display_name": "Python 3",
   "language": "python",
   "name": "python3"
  },
  "language_info": {
   "codemirror_mode": {
    "name": "ipython",
    "version": 3
   },
   "file_extension": ".py",
   "mimetype": "text/x-python",
   "name": "python",
   "nbconvert_exporter": "python",
   "pygments_lexer": "ipython3",
   "version": "3.6.1"
  },
  "toc": {
   "base_numbering": 1,
   "nav_menu": {},
   "number_sections": true,
   "sideBar": true,
   "skip_h1_title": false,
   "title_cell": "Table of Contents",
   "title_sidebar": "Contents",
   "toc_cell": false,
   "toc_position": {},
   "toc_section_display": true,
   "toc_window_display": false
  },
  "varInspector": {
   "cols": {
    "lenName": 16,
    "lenType": 16,
    "lenVar": 40
   },
   "kernels_config": {
    "python": {
     "delete_cmd_postfix": "",
     "delete_cmd_prefix": "del ",
     "library": "var_list.py",
     "varRefreshCmd": "print(var_dic_list())"
    },
    "r": {
     "delete_cmd_postfix": ") ",
     "delete_cmd_prefix": "rm(",
     "library": "var_list.r",
     "varRefreshCmd": "cat(var_dic_list()) "
    }
   },
   "types_to_exclude": [
    "module",
    "function",
    "builtin_function_or_method",
    "instance",
    "_Feature"
   ],
   "window_display": false
  }
 },
 "nbformat": 4,
 "nbformat_minor": 2
}
