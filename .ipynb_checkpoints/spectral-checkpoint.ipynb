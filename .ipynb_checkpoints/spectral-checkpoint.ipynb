{
 "cells": [
  {
   "cell_type": "code",
   "execution_count": 79,
   "metadata": {
    "collapsed": true
   },
   "outputs": [],
   "source": [
    "import matplotlib.pyplot as plt\n",
    "import numpy as np\n",
    "from scipy.spatial.distance import cdist, pdist, squareform\n",
    "from sklearn import datasets\n",
    "from sklearn.cluster import KMeans"
   ]
  },
  {
   "cell_type": "markdown",
   "metadata": {},
   "source": [
    "References:\n",
    "- https://scikit-learn.org/stable/auto_examples/cluster/plot_cluster_comparison.html\n",
    "- Luxburg, Tutorial on Spectral Clustering"
   ]
  },
  {
   "cell_type": "markdown",
   "metadata": {},
   "source": [
    "## Similarity graphs\n",
    "- $\\epsilon$-neighborhood graph\n",
    "- $k$-nearest neighbor graph\n",
    "    - directed\n",
    "    - undirected\n",
    "- fully connected graph (a weighted graph)"
   ]
  },
  {
   "cell_type": "markdown",
   "metadata": {},
   "source": [
    "## Graph Laplacian\n",
    "With $D$ being the degree matrix and $W$ being the adjacency matrix,\n",
    "- unnormalized Laplacian:\n",
    "    $$\n",
    "        L = D - W\n",
    "    $$\n",
    "\n",
    "- normalized Laplacians:\n",
    "    $$\n",
    "        L_{IW} = I - D^{-1}W \\\\\n",
    "        L_{sym} = I - D^{-1/2}WD^{-1/2}\n",
    "    $$"
   ]
  },
  {
   "cell_type": "markdown",
   "metadata": {},
   "source": [
    "## Spectral clustering"
   ]
  },
  {
   "cell_type": "code",
   "execution_count": 85,
   "metadata": {
    "collapsed": true
   },
   "outputs": [],
   "source": [
    "def _kmeans_clustering(X, k):\n",
    "    \"\"\"\n",
    "    Perform k-means clustering.\n",
    "    This is meant to be a temporary helper function for the spectral clustering function(s). The actual\n",
    "    clustering algorithm might change for other versions of spectral clustering.\n",
    "    \n",
    "    Parameters:\n",
    "        X: similarity matrix, each row represents one point.\n",
    "        k: integer, number of clusters to build.\n",
    "        \n",
    "    Value:\n",
    "        list of integers of class assignments.\n",
    "    \"\"\"\n",
    "    return KMeans(n_clusters=k).fit_predict(X)"
   ]
  },
  {
   "cell_type": "code",
   "execution_count": 86,
   "metadata": {
    "collapsed": true
   },
   "outputs": [],
   "source": [
    "def _spectral_clustering(W, k, laplacian='unnormalized'):\n",
    "    \"\"\"\n",
    "    Performs spectral clustering on a graph.\n",
    "    \n",
    "    Parameters:\n",
    "        W: numpy array, adjacency matrix of a undirected graph.\n",
    "        k: integer, number of clusters to construct.\n",
    "        laplacian: type of Laplacian matrix to used, could be \"unnormalized\", \"normalized\", \"symmetric\". Default \"unnormalized\"\n",
    "    \n",
    "    Value:\n",
    "        clusters: array of integers indicating group assignment.\n",
    "    \"\"\"\n",
    "    ## Laplacian\n",
    "    n_nodes = W.shape[0]\n",
    "    degrees = np.tril(W).sum(axis=0)\n",
    "    if laplacian == 'unnormalized':\n",
    "        D = np.diag(degrees)\n",
    "        L = D - W\n",
    "    elif laplacian == 'normalized':\n",
    "        D_inv = np.diag([1/dd for dd in degrees])\n",
    "        L = np.identity(n_nodes) - D_inv.dot(W)\n",
    "    elif laplacian == 'symmetric':\n",
    "        D_inv_root = np.diag([1/np.sqrt(dd) for dd in degrees])\n",
    "        L = np.identity(n_nodes) - D_inv_root.dot(W).dot(D_inv_root)\n",
    "    else:\n",
    "        raise ValueError('Unknown type of Laplacian.')\n",
    "    \n",
    "    ## First k eigenvectors L, as matrix V\n",
    "    eigenvalues, eigenvectors = np.linalg.eig(L)\n",
    "    ind = eigenvalues.real.argsort()[-k:]\n",
    "    V = eigenvectors[:, ind]\n",
    "    \n",
    "    ## Clustering rows of V with k-means\n",
    "    clusters = _kmeans_clustering(V, k)\n",
    "    \n",
    "    return clusters"
   ]
  },
  {
   "cell_type": "markdown",
   "metadata": {},
   "source": [
    "## Constructing similarity graph"
   ]
  },
  {
   "cell_type": "code",
   "execution_count": null,
   "metadata": {
    "collapsed": true
   },
   "outputs": [],
   "source": [
    "def _similarity_graph(S, method='eps', eps=None, k=None):\n",
    "    \"\"\"\n",
    "    Given a similarity matrix, construct a graph using the given method.\n",
    "    \n",
    "    Parameters:\n",
    "        S: numpy array, similarity matrix.\n",
    "        method: method used for constructing the graph, one of \"eps\", \"knn\", \"full\".\n",
    "        eps: float, the threshold used for filter out the graph using epsilon-neighborhood method.\n",
    "        k: integer, knn for determining connectivity when using the k-nn method.\n",
    "        \n",
    "    Value:\n",
    "        W: numpy array, the adjacency matrix of the constructed graph.\n",
    "    \"\"\"\n",
    "    pass"
   ]
  },
  {
   "cell_type": "markdown",
   "metadata": {},
   "source": [
    "## Toy datasets (from reference 1)"
   ]
  },
  {
   "cell_type": "code",
   "execution_count": 4,
   "metadata": {
    "collapsed": true
   },
   "outputs": [],
   "source": [
    "n_samples = 1500\n",
    "noisy_circles = datasets.make_circles(n_samples=n_samples,\n",
    "                                      factor=.5,\n",
    "                                      noise=.05)\n",
    "noisy_moons = datasets.make_moons(n_samples=n_samples, noise=.05)\n",
    "blobs = datasets.make_blobs(n_samples=n_samples, random_state=8)\n",
    "no_structure = np.random.rand(n_samples, 2), None\n",
    "\n",
    "# Anisotropicly distributed data\n",
    "random_state = 170\n",
    "X, y = datasets.make_blobs(n_samples=n_samples, random_state=random_state)\n",
    "transformation = [[0.6, -0.6], [-0.4, 0.8]]\n",
    "X_aniso = np.dot(X, transformation)\n",
    "aniso = (X_aniso, y)\n",
    "\n",
    "# blobs with varied variances\n",
    "varied = datasets.make_blobs(n_samples=n_samples,\n",
    "                             cluster_std=[1.0, 2.5, 0.5],\n",
    "                             random_state=random_state)"
   ]
  },
  {
   "cell_type": "code",
   "execution_count": 22,
   "metadata": {},
   "outputs": [
    {
     "data": {
      "text/plain": [
       "(1500, 2)"
      ]
     },
     "execution_count": 22,
     "metadata": {},
     "output_type": "execute_result"
    }
   ],
   "source": [
    "noisy_circles[0].shape"
   ]
  },
  {
   "cell_type": "code",
   "execution_count": 31,
   "metadata": {},
   "outputs": [
    {
     "data": {
      "text/plain": [
       "(1500, 1500)"
      ]
     },
     "execution_count": 31,
     "metadata": {},
     "output_type": "execute_result"
    }
   ],
   "source": [
    "S = squareform(pdist(noisy_circles[0]))\n",
    "S.shape"
   ]
  },
  {
   "cell_type": "code",
   "execution_count": 40,
   "metadata": {},
   "outputs": [
    {
     "data": {
      "text/plain": [
       "array([[  1.79014407e+03,   0.00000000e+00,   0.00000000e+00, ...,\n",
       "          0.00000000e+00,   0.00000000e+00,   0.00000000e+00],\n",
       "       [  0.00000000e+00,   1.76530133e+03,   0.00000000e+00, ...,\n",
       "          0.00000000e+00,   0.00000000e+00,   0.00000000e+00],\n",
       "       [  0.00000000e+00,   0.00000000e+00,   1.80538107e+03, ...,\n",
       "          0.00000000e+00,   0.00000000e+00,   0.00000000e+00],\n",
       "       ..., \n",
       "       [  0.00000000e+00,   0.00000000e+00,   0.00000000e+00, ...,\n",
       "          2.78924222e+00,   0.00000000e+00,   0.00000000e+00],\n",
       "       [  0.00000000e+00,   0.00000000e+00,   0.00000000e+00, ...,\n",
       "          0.00000000e+00,   1.80490710e+00,   0.00000000e+00],\n",
       "       [  0.00000000e+00,   0.00000000e+00,   0.00000000e+00, ...,\n",
       "          0.00000000e+00,   0.00000000e+00,   0.00000000e+00]])"
      ]
     },
     "execution_count": 40,
     "metadata": {},
     "output_type": "execute_result"
    }
   ],
   "source": [
    "np.tril(S).sum(axis=0) # column sum"
   ]
  },
  {
   "cell_type": "code",
   "execution_count": 49,
   "metadata": {},
   "outputs": [
    {
     "data": {
      "text/plain": [
       "array([[  1.79014407e+03,   0.00000000e+00,   0.00000000e+00, ...,\n",
       "          0.00000000e+00,   0.00000000e+00,   0.00000000e+00],\n",
       "       [  0.00000000e+00,   1.76530133e+03,   0.00000000e+00, ...,\n",
       "          0.00000000e+00,   0.00000000e+00,   0.00000000e+00],\n",
       "       [  0.00000000e+00,   0.00000000e+00,   1.80538107e+03, ...,\n",
       "          0.00000000e+00,   0.00000000e+00,   0.00000000e+00],\n",
       "       ..., \n",
       "       [  0.00000000e+00,   0.00000000e+00,   0.00000000e+00, ...,\n",
       "          2.78924222e+00,   0.00000000e+00,   0.00000000e+00],\n",
       "       [  0.00000000e+00,   0.00000000e+00,   0.00000000e+00, ...,\n",
       "          0.00000000e+00,   1.80490710e+00,   0.00000000e+00],\n",
       "       [  0.00000000e+00,   0.00000000e+00,   0.00000000e+00, ...,\n",
       "          0.00000000e+00,   0.00000000e+00,   0.00000000e+00]])"
      ]
     },
     "execution_count": 49,
     "metadata": {},
     "output_type": "execute_result"
    }
   ],
   "source": [
    "D = np.diag(np.tril(S).sum(axis=0))\n",
    "D"
   ]
  },
  {
   "cell_type": "code",
   "execution_count": 58,
   "metadata": {},
   "outputs": [
    {
     "data": {
      "text/plain": [
       "array([[  0.00000000e+00,   2.50485460e+03,   3.55075827e+03, ...,\n",
       "          3.15275020e+03,   3.57487441e+03,   1.25768595e+03],\n",
       "       [  2.47009345e+03,   0.00000000e+00,   1.79826318e+03, ...,\n",
       "          3.24962561e+03,   2.44179245e+03,   1.37625889e+03],\n",
       "       [  3.58098092e+03,   1.83909130e+03,   0.00000000e+00, ...,\n",
       "          2.40674487e+03,   9.26354941e+02,   2.91763386e+03],\n",
       "       ..., \n",
       "       [  4.91233309e+00,   5.13453019e+00,   3.71832545e+00, ...,\n",
       "          0.00000000e+00,   2.47496975e+00,   5.30490242e+00],\n",
       "       [  3.60435581e+00,   2.49657577e+00,   9.26111742e-01, ...,\n",
       "          1.60154269e+00,   0.00000000e+00,   3.25768964e+00],\n",
       "       [  0.00000000e+00,   0.00000000e+00,   0.00000000e+00, ...,\n",
       "          0.00000000e+00,   0.00000000e+00,   0.00000000e+00]])"
      ]
     },
     "execution_count": 58,
     "metadata": {},
     "output_type": "execute_result"
    }
   ],
   "source": [
    "np.identity(1500).dot(D).dot(S)"
   ]
  },
  {
   "cell_type": "code",
   "execution_count": 59,
   "metadata": {
    "collapsed": true
   },
   "outputs": [],
   "source": [
    "eigenvalues, eigenvectors = np.linalg.eig(np.identity(1500).dot(D).dot(S))"
   ]
  },
  {
   "cell_type": "code",
   "execution_count": 60,
   "metadata": {},
   "outputs": [
    {
     "data": {
      "text/plain": [
       "array([  1.24099750e+06,  -3.52625873e+05,  -3.58627972e+05, ...,\n",
       "        -6.01176000e+00,  -6.01134477e+00,   0.00000000e+00])"
      ]
     },
     "execution_count": 60,
     "metadata": {},
     "output_type": "execute_result"
    }
   ],
   "source": [
    "eigenvalues"
   ]
  },
  {
   "cell_type": "code",
   "execution_count": 63,
   "metadata": {},
   "outputs": [
    {
     "data": {
      "text/plain": [
       "array([[ -5.66452779e-02,  -7.59014928e-02,   3.34987484e-02, ...,\n",
       "         -2.04422652e-07,   2.58547883e-07,  -2.25984308e-07],\n",
       "       [ -5.49546345e-02,  -3.72130800e-02,  -7.10973944e-02, ...,\n",
       "         -1.98998463e-07,  -1.88400745e-07,  -1.47483154e-07],\n",
       "       [ -5.75204767e-02,   4.59599654e-02,  -7.01699374e-02, ...,\n",
       "         -3.00294881e-08,  -1.31245635e-07,  -1.17182588e-07],\n",
       "       ..., \n",
       "       [ -8.30930331e-05,   1.10143141e-04,   5.62272795e-05, ...,\n",
       "          5.51438940e-08,  -2.67952968e-07,  -4.63167248e-08],\n",
       "       [ -5.51036458e-05,   7.25599238e-05,  -3.81620691e-05, ...,\n",
       "         -4.58031782e-10,  -1.76652597e-09,  -3.12747374e-08],\n",
       "       [  0.00000000e+00,   0.00000000e+00,   0.00000000e+00, ...,\n",
       "          0.00000000e+00,   0.00000000e+00,   8.07213813e-01]])"
      ]
     },
     "execution_count": 63,
     "metadata": {},
     "output_type": "execute_result"
    }
   ],
   "source": [
    "eigenvectors"
   ]
  },
  {
   "cell_type": "code",
   "execution_count": 73,
   "metadata": {},
   "outputs": [
    {
     "data": {
      "text/plain": [
       "array([ -9.17112012e-02,  -9.13221851e-02,  -8.97896266e-02,\n",
       "        -8.53002613e-02,  -7.94466692e-02,  -6.22834435e-02,\n",
       "        -4.93210923e-02,  -3.25106323e-02,   0.00000000e+00,\n",
       "         1.24099750e+06])"
      ]
     },
     "execution_count": 73,
     "metadata": {},
     "output_type": "execute_result"
    }
   ],
   "source": [
    "ind = eigenvalues.real.argsort()[-10:]\n",
    "eigenvalues[ind]"
   ]
  },
  {
   "cell_type": "code",
   "execution_count": 75,
   "metadata": {},
   "outputs": [
    {
     "data": {
      "text/plain": [
       "(1500, 10)"
      ]
     },
     "execution_count": 75,
     "metadata": {},
     "output_type": "execute_result"
    }
   ],
   "source": [
    "eigenvectors[:,ind].shape"
   ]
  },
  {
   "cell_type": "code",
   "execution_count": 80,
   "metadata": {
    "collapsed": true
   },
   "outputs": [],
   "source": [
    "V = eigenvectors[:,ind]"
   ]
  },
  {
   "cell_type": "code",
   "execution_count": 87,
   "metadata": {},
   "outputs": [
    {
     "data": {
      "text/plain": [
       "array([0, 0, 0, ..., 0, 2, 0], dtype=int32)"
      ]
     },
     "execution_count": 87,
     "metadata": {},
     "output_type": "execute_result"
    }
   ],
   "source": [
    "KMeans(n_clusters=5).fit_predict(V)"
   ]
  },
  {
   "cell_type": "code",
   "execution_count": 89,
   "metadata": {},
   "outputs": [
    {
     "data": {
      "text/plain": [
       "(1500,)"
      ]
     },
     "execution_count": 89,
     "metadata": {},
     "output_type": "execute_result"
    }
   ],
   "source": [
    "res = _spectral_clustering(S, 2, laplacian='unnormalized')\n",
    "res.shape"
   ]
  },
  {
   "cell_type": "code",
   "execution_count": 93,
   "metadata": {},
   "outputs": [
    {
     "data": {
      "text/plain": [
       "(array([0, 1], dtype=int32), array([1499,    1]))"
      ]
     },
     "execution_count": 93,
     "metadata": {},
     "output_type": "execute_result"
    }
   ],
   "source": [
    "np.unique(res, return_counts=True)"
   ]
  }
 ],
 "metadata": {
  "kernelspec": {
   "display_name": "Python 3",
   "language": "python",
   "name": "python3"
  },
  "language_info": {
   "codemirror_mode": {
    "name": "ipython",
    "version": 3
   },
   "file_extension": ".py",
   "mimetype": "text/x-python",
   "name": "python",
   "nbconvert_exporter": "python",
   "pygments_lexer": "ipython3",
   "version": "3.6.1"
  },
  "toc": {
   "base_numbering": 1,
   "nav_menu": {},
   "number_sections": true,
   "sideBar": true,
   "skip_h1_title": false,
   "title_cell": "Table of Contents",
   "title_sidebar": "Contents",
   "toc_cell": false,
   "toc_position": {},
   "toc_section_display": true,
   "toc_window_display": false
  },
  "varInspector": {
   "cols": {
    "lenName": 16,
    "lenType": 16,
    "lenVar": 40
   },
   "kernels_config": {
    "python": {
     "delete_cmd_postfix": "",
     "delete_cmd_prefix": "del ",
     "library": "var_list.py",
     "varRefreshCmd": "print(var_dic_list())"
    },
    "r": {
     "delete_cmd_postfix": ") ",
     "delete_cmd_prefix": "rm(",
     "library": "var_list.r",
     "varRefreshCmd": "cat(var_dic_list()) "
    }
   },
   "types_to_exclude": [
    "module",
    "function",
    "builtin_function_or_method",
    "instance",
    "_Feature"
   ],
   "window_display": false
  }
 },
 "nbformat": 4,
 "nbformat_minor": 2
}
